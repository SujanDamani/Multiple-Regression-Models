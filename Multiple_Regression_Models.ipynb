{
  "nbformat": 4,
  "nbformat_minor": 0,
  "metadata": {
    "colab": {
      "name": "Multiple Regression Models.ipynb",
      "provenance": [],
      "collapsed_sections": [],
      "authorship_tag": "ABX9TyPcMa9MjzdoPxaQT72KPNfR"
    },
    "kernelspec": {
      "name": "python3",
      "display_name": "Python 3"
    }
  },
  "cells": [
    {
      "cell_type": "markdown",
      "metadata": {
        "id": "B6Q_F3gt2QOk",
        "colab_type": "text"
      },
      "source": [
        "$$Y_i = b_0 + b_1 X_{1i} + b_2 X_{2i} + \\epsilon_i$$\n",
        "$$TCS_i = b_0 + b_1 NIFTY_{i} + b_2 CNXIT_{i} + \\epsilon_i$$"
      ]
    },
    {
      "cell_type": "code",
      "metadata": {
        "id": "0Hkxj0JDtFfa",
        "colab_type": "code",
        "colab": {
          "base_uri": "https://localhost:8080/",
          "height": 71
        },
        "outputId": "c7baa256-e09d-4872-a008-2737862b2b51"
      },
      "source": [
        "from pandas_datareader import data\n"
      ],
      "execution_count": null,
      "outputs": [
        {
          "output_type": "stream",
          "text": [
            "/usr/local/lib/python3.6/dist-packages/pandas_datareader/compat/__init__.py:7: FutureWarning: pandas.util.testing is deprecated. Use the functions in the public API at pandas.testing instead.\n",
            "  from pandas.util.testing import assert_frame_equal\n"
          ],
          "name": "stderr"
        }
      ]
    },
    {
      "cell_type": "code",
      "metadata": {
        "id": "Mn31DMGQtbvC",
        "colab_type": "code",
        "colab": {
          "base_uri": "https://localhost:8080/",
          "height": 235
        },
        "outputId": "41ab1587-2779-421f-d801-c1fb2d665e9f"
      },
      "source": [
        "tcs = data.DataReader('TCS.NS', 'yahoo', start='2015/01/01', end='2020/09/14')\n",
        "tcs = tcs.resample('M').last().pct_change()\n",
        "tcs.head()"
      ],
      "execution_count": null,
      "outputs": [
        {
          "output_type": "execute_result",
          "data": {
            "text/html": [
              "<div>\n",
              "<style scoped>\n",
              "    .dataframe tbody tr th:only-of-type {\n",
              "        vertical-align: middle;\n",
              "    }\n",
              "\n",
              "    .dataframe tbody tr th {\n",
              "        vertical-align: top;\n",
              "    }\n",
              "\n",
              "    .dataframe thead th {\n",
              "        text-align: right;\n",
              "    }\n",
              "</style>\n",
              "<table border=\"1\" class=\"dataframe\">\n",
              "  <thead>\n",
              "    <tr style=\"text-align: right;\">\n",
              "      <th></th>\n",
              "      <th>High</th>\n",
              "      <th>Low</th>\n",
              "      <th>Open</th>\n",
              "      <th>Close</th>\n",
              "      <th>Volume</th>\n",
              "      <th>Adj Close</th>\n",
              "    </tr>\n",
              "    <tr>\n",
              "      <th>Date</th>\n",
              "      <th></th>\n",
              "      <th></th>\n",
              "      <th></th>\n",
              "      <th></th>\n",
              "      <th></th>\n",
              "      <th></th>\n",
              "    </tr>\n",
              "  </thead>\n",
              "  <tbody>\n",
              "    <tr>\n",
              "      <th>2015-01-31</th>\n",
              "      <td>NaN</td>\n",
              "      <td>NaN</td>\n",
              "      <td>NaN</td>\n",
              "      <td>NaN</td>\n",
              "      <td>NaN</td>\n",
              "      <td>NaN</td>\n",
              "    </tr>\n",
              "    <tr>\n",
              "      <th>2015-02-28</th>\n",
              "      <td>0.039130</td>\n",
              "      <td>0.059231</td>\n",
              "      <td>0.038560</td>\n",
              "      <td>0.072641</td>\n",
              "      <td>-0.505385</td>\n",
              "      <td>0.072641</td>\n",
              "    </tr>\n",
              "    <tr>\n",
              "      <th>2015-03-31</th>\n",
              "      <td>-0.039735</td>\n",
              "      <td>-0.036426</td>\n",
              "      <td>-0.033842</td>\n",
              "      <td>-0.040723</td>\n",
              "      <td>-0.156513</td>\n",
              "      <td>-0.040723</td>\n",
              "    </tr>\n",
              "    <tr>\n",
              "      <th>2015-04-30</th>\n",
              "      <td>-0.030917</td>\n",
              "      <td>-0.037247</td>\n",
              "      <td>-0.034809</td>\n",
              "      <td>-0.035334</td>\n",
              "      <td>0.540178</td>\n",
              "      <td>-0.035334</td>\n",
              "    </tr>\n",
              "    <tr>\n",
              "      <th>2015-05-31</th>\n",
              "      <td>0.063695</td>\n",
              "      <td>0.070100</td>\n",
              "      <td>0.055242</td>\n",
              "      <td>0.059504</td>\n",
              "      <td>0.183378</td>\n",
              "      <td>0.059504</td>\n",
              "    </tr>\n",
              "  </tbody>\n",
              "</table>\n",
              "</div>"
            ],
            "text/plain": [
              "                High       Low      Open     Close    Volume  Adj Close\n",
              "Date                                                                   \n",
              "2015-01-31       NaN       NaN       NaN       NaN       NaN        NaN\n",
              "2015-02-28  0.039130  0.059231  0.038560  0.072641 -0.505385   0.072641\n",
              "2015-03-31 -0.039735 -0.036426 -0.033842 -0.040723 -0.156513  -0.040723\n",
              "2015-04-30 -0.030917 -0.037247 -0.034809 -0.035334  0.540178  -0.035334\n",
              "2015-05-31  0.063695  0.070100  0.055242  0.059504  0.183378   0.059504"
            ]
          },
          "metadata": {
            "tags": []
          },
          "execution_count": 4
        }
      ]
    },
    {
      "cell_type": "code",
      "metadata": {
        "id": "IS5Uk5vbtwrj",
        "colab_type": "code",
        "colab": {
          "base_uri": "https://localhost:8080/",
          "height": 235
        },
        "outputId": "24de1c90-5b79-4918-82b7-430f5fb758d4"
      },
      "source": [
        "nifty = data.DataReader('^NSEI', 'yahoo', start='2015/01/01', end='2020/09/14')\n",
        "nifty = nifty.resample('M').last().pct_change()\n",
        "nifty.head()"
      ],
      "execution_count": null,
      "outputs": [
        {
          "output_type": "execute_result",
          "data": {
            "text/html": [
              "<div>\n",
              "<style scoped>\n",
              "    .dataframe tbody tr th:only-of-type {\n",
              "        vertical-align: middle;\n",
              "    }\n",
              "\n",
              "    .dataframe tbody tr th {\n",
              "        vertical-align: top;\n",
              "    }\n",
              "\n",
              "    .dataframe thead th {\n",
              "        text-align: right;\n",
              "    }\n",
              "</style>\n",
              "<table border=\"1\" class=\"dataframe\">\n",
              "  <thead>\n",
              "    <tr style=\"text-align: right;\">\n",
              "      <th></th>\n",
              "      <th>High</th>\n",
              "      <th>Low</th>\n",
              "      <th>Open</th>\n",
              "      <th>Close</th>\n",
              "      <th>Volume</th>\n",
              "      <th>Adj Close</th>\n",
              "    </tr>\n",
              "    <tr>\n",
              "      <th>Date</th>\n",
              "      <th></th>\n",
              "      <th></th>\n",
              "      <th></th>\n",
              "      <th></th>\n",
              "      <th></th>\n",
              "      <th></th>\n",
              "    </tr>\n",
              "  </thead>\n",
              "  <tbody>\n",
              "    <tr>\n",
              "      <th>2015-01-31</th>\n",
              "      <td>NaN</td>\n",
              "      <td>NaN</td>\n",
              "      <td>NaN</td>\n",
              "      <td>NaN</td>\n",
              "      <td>NaN</td>\n",
              "      <td>NaN</td>\n",
              "    </tr>\n",
              "    <tr>\n",
              "      <th>2015-02-28</th>\n",
              "      <td>-0.015522</td>\n",
              "      <td>-0.006570</td>\n",
              "      <td>-0.029689</td>\n",
              "      <td>0.004053</td>\n",
              "      <td>-0.066592</td>\n",
              "      <td>0.004053</td>\n",
              "    </tr>\n",
              "    <tr>\n",
              "      <th>2015-03-31</th>\n",
              "      <td>-0.034606</td>\n",
              "      <td>-0.030204</td>\n",
              "      <td>-0.023129</td>\n",
              "      <td>-0.039979</td>\n",
              "      <td>-0.329860</td>\n",
              "      <td>-0.039979</td>\n",
              "    </tr>\n",
              "    <tr>\n",
              "      <th>2015-04-30</th>\n",
              "      <td>-0.037548</td>\n",
              "      <td>-0.036597</td>\n",
              "      <td>-0.035543</td>\n",
              "      <td>-0.036450</td>\n",
              "      <td>0.601077</td>\n",
              "      <td>-0.036450</td>\n",
              "    </tr>\n",
              "    <tr>\n",
              "      <th>2015-05-31</th>\n",
              "      <td>0.026065</td>\n",
              "      <td>0.019761</td>\n",
              "      <td>0.012475</td>\n",
              "      <td>0.030820</td>\n",
              "      <td>0.359357</td>\n",
              "      <td>0.030820</td>\n",
              "    </tr>\n",
              "  </tbody>\n",
              "</table>\n",
              "</div>"
            ],
            "text/plain": [
              "                High       Low      Open     Close    Volume  Adj Close\n",
              "Date                                                                   \n",
              "2015-01-31       NaN       NaN       NaN       NaN       NaN        NaN\n",
              "2015-02-28 -0.015522 -0.006570 -0.029689  0.004053 -0.066592   0.004053\n",
              "2015-03-31 -0.034606 -0.030204 -0.023129 -0.039979 -0.329860  -0.039979\n",
              "2015-04-30 -0.037548 -0.036597 -0.035543 -0.036450  0.601077  -0.036450\n",
              "2015-05-31  0.026065  0.019761  0.012475  0.030820  0.359357   0.030820"
            ]
          },
          "metadata": {
            "tags": []
          },
          "execution_count": 5
        }
      ]
    },
    {
      "cell_type": "code",
      "metadata": {
        "id": "ghNUpUrwuKtA",
        "colab_type": "code",
        "colab": {
          "base_uri": "https://localhost:8080/",
          "height": 235
        },
        "outputId": "cf0a824d-fd57-4bce-ad4b-aa01ef8e3dbc"
      },
      "source": [
        "cnxit = data.DataReader('^CNXIT', 'yahoo', start='2015/01/01', end='2020/09/14')\n",
        "cnxit = cnxit.resample('M').last().pct_change()\n",
        "cnxit.head()"
      ],
      "execution_count": null,
      "outputs": [
        {
          "output_type": "execute_result",
          "data": {
            "text/html": [
              "<div>\n",
              "<style scoped>\n",
              "    .dataframe tbody tr th:only-of-type {\n",
              "        vertical-align: middle;\n",
              "    }\n",
              "\n",
              "    .dataframe tbody tr th {\n",
              "        vertical-align: top;\n",
              "    }\n",
              "\n",
              "    .dataframe thead th {\n",
              "        text-align: right;\n",
              "    }\n",
              "</style>\n",
              "<table border=\"1\" class=\"dataframe\">\n",
              "  <thead>\n",
              "    <tr style=\"text-align: right;\">\n",
              "      <th></th>\n",
              "      <th>High</th>\n",
              "      <th>Low</th>\n",
              "      <th>Open</th>\n",
              "      <th>Close</th>\n",
              "      <th>Volume</th>\n",
              "      <th>Adj Close</th>\n",
              "    </tr>\n",
              "    <tr>\n",
              "      <th>Date</th>\n",
              "      <th></th>\n",
              "      <th></th>\n",
              "      <th></th>\n",
              "      <th></th>\n",
              "      <th></th>\n",
              "      <th></th>\n",
              "    </tr>\n",
              "  </thead>\n",
              "  <tbody>\n",
              "    <tr>\n",
              "      <th>2015-01-31</th>\n",
              "      <td>NaN</td>\n",
              "      <td>NaN</td>\n",
              "      <td>NaN</td>\n",
              "      <td>NaN</td>\n",
              "      <td>NaN</td>\n",
              "      <td>NaN</td>\n",
              "    </tr>\n",
              "    <tr>\n",
              "      <th>2015-02-28</th>\n",
              "      <td>0.060414</td>\n",
              "      <td>0.060185</td>\n",
              "      <td>0.059167</td>\n",
              "      <td>0.061806</td>\n",
              "      <td>NaN</td>\n",
              "      <td>0.061806</td>\n",
              "    </tr>\n",
              "    <tr>\n",
              "      <th>2015-03-31</th>\n",
              "      <td>-0.029520</td>\n",
              "      <td>-0.034537</td>\n",
              "      <td>-0.028151</td>\n",
              "      <td>-0.037591</td>\n",
              "      <td>NaN</td>\n",
              "      <td>-0.037591</td>\n",
              "    </tr>\n",
              "    <tr>\n",
              "      <th>2015-04-30</th>\n",
              "      <td>-0.086530</td>\n",
              "      <td>-0.087562</td>\n",
              "      <td>-0.092117</td>\n",
              "      <td>-0.081817</td>\n",
              "      <td>NaN</td>\n",
              "      <td>-0.081817</td>\n",
              "    </tr>\n",
              "    <tr>\n",
              "      <th>2015-05-31</th>\n",
              "      <td>0.044527</td>\n",
              "      <td>0.041734</td>\n",
              "      <td>0.036607</td>\n",
              "      <td>0.043324</td>\n",
              "      <td>NaN</td>\n",
              "      <td>0.043324</td>\n",
              "    </tr>\n",
              "  </tbody>\n",
              "</table>\n",
              "</div>"
            ],
            "text/plain": [
              "                High       Low      Open     Close  Volume  Adj Close\n",
              "Date                                                                 \n",
              "2015-01-31       NaN       NaN       NaN       NaN     NaN        NaN\n",
              "2015-02-28  0.060414  0.060185  0.059167  0.061806     NaN   0.061806\n",
              "2015-03-31 -0.029520 -0.034537 -0.028151 -0.037591     NaN  -0.037591\n",
              "2015-04-30 -0.086530 -0.087562 -0.092117 -0.081817     NaN  -0.081817\n",
              "2015-05-31  0.044527  0.041734  0.036607  0.043324     NaN   0.043324"
            ]
          },
          "metadata": {
            "tags": []
          },
          "execution_count": 6
        }
      ]
    },
    {
      "cell_type": "code",
      "metadata": {
        "id": "o4TK0YW0u0Yo",
        "colab_type": "code",
        "colab": {}
      },
      "source": [
        "data = {'tcs':tcs['Adj Close'], 'nifty':nifty['Adj Close'], 'cnxit':cnxit['Adj Close']}\n"
      ],
      "execution_count": null,
      "outputs": []
    },
    {
      "cell_type": "code",
      "metadata": {
        "id": "Lr1ZrMPJvlcT",
        "colab_type": "code",
        "colab": {
          "base_uri": "https://localhost:8080/",
          "height": 235
        },
        "outputId": "2d0a9188-c9d3-4a21-f9a7-e2ecba2f0e18"
      },
      "source": [
        "import pandas as pd\n",
        "df = pd.DataFrame(data)\n",
        "df.head()"
      ],
      "execution_count": null,
      "outputs": [
        {
          "output_type": "execute_result",
          "data": {
            "text/html": [
              "<div>\n",
              "<style scoped>\n",
              "    .dataframe tbody tr th:only-of-type {\n",
              "        vertical-align: middle;\n",
              "    }\n",
              "\n",
              "    .dataframe tbody tr th {\n",
              "        vertical-align: top;\n",
              "    }\n",
              "\n",
              "    .dataframe thead th {\n",
              "        text-align: right;\n",
              "    }\n",
              "</style>\n",
              "<table border=\"1\" class=\"dataframe\">\n",
              "  <thead>\n",
              "    <tr style=\"text-align: right;\">\n",
              "      <th></th>\n",
              "      <th>tcs</th>\n",
              "      <th>nifty</th>\n",
              "      <th>cnxit</th>\n",
              "    </tr>\n",
              "    <tr>\n",
              "      <th>Date</th>\n",
              "      <th></th>\n",
              "      <th></th>\n",
              "      <th></th>\n",
              "    </tr>\n",
              "  </thead>\n",
              "  <tbody>\n",
              "    <tr>\n",
              "      <th>2015-01-31</th>\n",
              "      <td>NaN</td>\n",
              "      <td>NaN</td>\n",
              "      <td>NaN</td>\n",
              "    </tr>\n",
              "    <tr>\n",
              "      <th>2015-02-28</th>\n",
              "      <td>0.072641</td>\n",
              "      <td>0.004053</td>\n",
              "      <td>0.061806</td>\n",
              "    </tr>\n",
              "    <tr>\n",
              "      <th>2015-03-31</th>\n",
              "      <td>-0.040723</td>\n",
              "      <td>-0.039979</td>\n",
              "      <td>-0.037591</td>\n",
              "    </tr>\n",
              "    <tr>\n",
              "      <th>2015-04-30</th>\n",
              "      <td>-0.035334</td>\n",
              "      <td>-0.036450</td>\n",
              "      <td>-0.081817</td>\n",
              "    </tr>\n",
              "    <tr>\n",
              "      <th>2015-05-31</th>\n",
              "      <td>0.059504</td>\n",
              "      <td>0.030820</td>\n",
              "      <td>0.043324</td>\n",
              "    </tr>\n",
              "  </tbody>\n",
              "</table>\n",
              "</div>"
            ],
            "text/plain": [
              "                 tcs     nifty     cnxit\n",
              "Date                                    \n",
              "2015-01-31       NaN       NaN       NaN\n",
              "2015-02-28  0.072641  0.004053  0.061806\n",
              "2015-03-31 -0.040723 -0.039979 -0.037591\n",
              "2015-04-30 -0.035334 -0.036450 -0.081817\n",
              "2015-05-31  0.059504  0.030820  0.043324"
            ]
          },
          "metadata": {
            "tags": []
          },
          "execution_count": 8
        }
      ]
    },
    {
      "cell_type": "code",
      "metadata": {
        "id": "UADArfVuvnSt",
        "colab_type": "code",
        "colab": {
          "base_uri": "https://localhost:8080/",
          "height": 235
        },
        "outputId": "3e805781-0ffc-4b54-dbb9-2608a6ec2e9b"
      },
      "source": [
        "df = df.dropna()\n",
        "df.head()"
      ],
      "execution_count": null,
      "outputs": [
        {
          "output_type": "execute_result",
          "data": {
            "text/html": [
              "<div>\n",
              "<style scoped>\n",
              "    .dataframe tbody tr th:only-of-type {\n",
              "        vertical-align: middle;\n",
              "    }\n",
              "\n",
              "    .dataframe tbody tr th {\n",
              "        vertical-align: top;\n",
              "    }\n",
              "\n",
              "    .dataframe thead th {\n",
              "        text-align: right;\n",
              "    }\n",
              "</style>\n",
              "<table border=\"1\" class=\"dataframe\">\n",
              "  <thead>\n",
              "    <tr style=\"text-align: right;\">\n",
              "      <th></th>\n",
              "      <th>tcs</th>\n",
              "      <th>nifty</th>\n",
              "      <th>cnxit</th>\n",
              "    </tr>\n",
              "    <tr>\n",
              "      <th>Date</th>\n",
              "      <th></th>\n",
              "      <th></th>\n",
              "      <th></th>\n",
              "    </tr>\n",
              "  </thead>\n",
              "  <tbody>\n",
              "    <tr>\n",
              "      <th>2015-02-28</th>\n",
              "      <td>0.072641</td>\n",
              "      <td>0.004053</td>\n",
              "      <td>0.061806</td>\n",
              "    </tr>\n",
              "    <tr>\n",
              "      <th>2015-03-31</th>\n",
              "      <td>-0.040723</td>\n",
              "      <td>-0.039979</td>\n",
              "      <td>-0.037591</td>\n",
              "    </tr>\n",
              "    <tr>\n",
              "      <th>2015-04-30</th>\n",
              "      <td>-0.035334</td>\n",
              "      <td>-0.036450</td>\n",
              "      <td>-0.081817</td>\n",
              "    </tr>\n",
              "    <tr>\n",
              "      <th>2015-05-31</th>\n",
              "      <td>0.059504</td>\n",
              "      <td>0.030820</td>\n",
              "      <td>0.043324</td>\n",
              "    </tr>\n",
              "    <tr>\n",
              "      <th>2015-06-30</th>\n",
              "      <td>-0.004400</td>\n",
              "      <td>-0.007725</td>\n",
              "      <td>-0.046449</td>\n",
              "    </tr>\n",
              "  </tbody>\n",
              "</table>\n",
              "</div>"
            ],
            "text/plain": [
              "                 tcs     nifty     cnxit\n",
              "Date                                    \n",
              "2015-02-28  0.072641  0.004053  0.061806\n",
              "2015-03-31 -0.040723 -0.039979 -0.037591\n",
              "2015-04-30 -0.035334 -0.036450 -0.081817\n",
              "2015-05-31  0.059504  0.030820  0.043324\n",
              "2015-06-30 -0.004400 -0.007725 -0.046449"
            ]
          },
          "metadata": {
            "tags": []
          },
          "execution_count": 9
        }
      ]
    },
    {
      "cell_type": "code",
      "metadata": {
        "id": "UMUor1Ievrza",
        "colab_type": "code",
        "colab": {}
      },
      "source": [
        "import statsmodels.api as sm\n"
      ],
      "execution_count": null,
      "outputs": []
    },
    {
      "cell_type": "code",
      "metadata": {
        "id": "KruFgTqrvxUz",
        "colab_type": "code",
        "colab": {}
      },
      "source": [
        "from patsy import dmatrices\n"
      ],
      "execution_count": null,
      "outputs": []
    },
    {
      "cell_type": "code",
      "metadata": {
        "id": "ZyXxF3UQvzqb",
        "colab_type": "code",
        "colab": {}
      },
      "source": [
        "y, X = dmatrices('tcs ~ nifty + cnxit', data=df, return_type='dataframe')"
      ],
      "execution_count": null,
      "outputs": []
    },
    {
      "cell_type": "code",
      "metadata": {
        "id": "G2UgAjouv1uT",
        "colab_type": "code",
        "colab": {
          "base_uri": "https://localhost:8080/",
          "height": 235
        },
        "outputId": "58e675aa-cf7e-4497-ce1f-0b97841fd903"
      },
      "source": [
        "y.head()\n"
      ],
      "execution_count": null,
      "outputs": [
        {
          "output_type": "execute_result",
          "data": {
            "text/html": [
              "<div>\n",
              "<style scoped>\n",
              "    .dataframe tbody tr th:only-of-type {\n",
              "        vertical-align: middle;\n",
              "    }\n",
              "\n",
              "    .dataframe tbody tr th {\n",
              "        vertical-align: top;\n",
              "    }\n",
              "\n",
              "    .dataframe thead th {\n",
              "        text-align: right;\n",
              "    }\n",
              "</style>\n",
              "<table border=\"1\" class=\"dataframe\">\n",
              "  <thead>\n",
              "    <tr style=\"text-align: right;\">\n",
              "      <th></th>\n",
              "      <th>tcs</th>\n",
              "    </tr>\n",
              "    <tr>\n",
              "      <th>Date</th>\n",
              "      <th></th>\n",
              "    </tr>\n",
              "  </thead>\n",
              "  <tbody>\n",
              "    <tr>\n",
              "      <th>2015-02-28</th>\n",
              "      <td>0.072641</td>\n",
              "    </tr>\n",
              "    <tr>\n",
              "      <th>2015-03-31</th>\n",
              "      <td>-0.040723</td>\n",
              "    </tr>\n",
              "    <tr>\n",
              "      <th>2015-04-30</th>\n",
              "      <td>-0.035334</td>\n",
              "    </tr>\n",
              "    <tr>\n",
              "      <th>2015-05-31</th>\n",
              "      <td>0.059504</td>\n",
              "    </tr>\n",
              "    <tr>\n",
              "      <th>2015-06-30</th>\n",
              "      <td>-0.004400</td>\n",
              "    </tr>\n",
              "  </tbody>\n",
              "</table>\n",
              "</div>"
            ],
            "text/plain": [
              "                 tcs\n",
              "Date                \n",
              "2015-02-28  0.072641\n",
              "2015-03-31 -0.040723\n",
              "2015-04-30 -0.035334\n",
              "2015-05-31  0.059504\n",
              "2015-06-30 -0.004400"
            ]
          },
          "metadata": {
            "tags": []
          },
          "execution_count": 14
        }
      ]
    },
    {
      "cell_type": "code",
      "metadata": {
        "id": "gJMCJ_9RwDDs",
        "colab_type": "code",
        "colab": {
          "base_uri": "https://localhost:8080/",
          "height": 235
        },
        "outputId": "c24f06be-4aa8-40a4-d606-40396b49ec5b"
      },
      "source": [
        "X.head()\n"
      ],
      "execution_count": null,
      "outputs": [
        {
          "output_type": "execute_result",
          "data": {
            "text/html": [
              "<div>\n",
              "<style scoped>\n",
              "    .dataframe tbody tr th:only-of-type {\n",
              "        vertical-align: middle;\n",
              "    }\n",
              "\n",
              "    .dataframe tbody tr th {\n",
              "        vertical-align: top;\n",
              "    }\n",
              "\n",
              "    .dataframe thead th {\n",
              "        text-align: right;\n",
              "    }\n",
              "</style>\n",
              "<table border=\"1\" class=\"dataframe\">\n",
              "  <thead>\n",
              "    <tr style=\"text-align: right;\">\n",
              "      <th></th>\n",
              "      <th>Intercept</th>\n",
              "      <th>nifty</th>\n",
              "      <th>cnxit</th>\n",
              "    </tr>\n",
              "    <tr>\n",
              "      <th>Date</th>\n",
              "      <th></th>\n",
              "      <th></th>\n",
              "      <th></th>\n",
              "    </tr>\n",
              "  </thead>\n",
              "  <tbody>\n",
              "    <tr>\n",
              "      <th>2015-02-28</th>\n",
              "      <td>1.0</td>\n",
              "      <td>0.004053</td>\n",
              "      <td>0.061806</td>\n",
              "    </tr>\n",
              "    <tr>\n",
              "      <th>2015-03-31</th>\n",
              "      <td>1.0</td>\n",
              "      <td>-0.039979</td>\n",
              "      <td>-0.037591</td>\n",
              "    </tr>\n",
              "    <tr>\n",
              "      <th>2015-04-30</th>\n",
              "      <td>1.0</td>\n",
              "      <td>-0.036450</td>\n",
              "      <td>-0.081817</td>\n",
              "    </tr>\n",
              "    <tr>\n",
              "      <th>2015-05-31</th>\n",
              "      <td>1.0</td>\n",
              "      <td>0.030820</td>\n",
              "      <td>0.043324</td>\n",
              "    </tr>\n",
              "    <tr>\n",
              "      <th>2015-06-30</th>\n",
              "      <td>1.0</td>\n",
              "      <td>-0.007725</td>\n",
              "      <td>-0.046449</td>\n",
              "    </tr>\n",
              "  </tbody>\n",
              "</table>\n",
              "</div>"
            ],
            "text/plain": [
              "            Intercept     nifty     cnxit\n",
              "Date                                     \n",
              "2015-02-28        1.0  0.004053  0.061806\n",
              "2015-03-31        1.0 -0.039979 -0.037591\n",
              "2015-04-30        1.0 -0.036450 -0.081817\n",
              "2015-05-31        1.0  0.030820  0.043324\n",
              "2015-06-30        1.0 -0.007725 -0.046449"
            ]
          },
          "metadata": {
            "tags": []
          },
          "execution_count": 15
        }
      ]
    },
    {
      "cell_type": "code",
      "metadata": {
        "id": "_wo_c-3gwG_M",
        "colab_type": "code",
        "colab": {}
      },
      "source": [
        "y = df['tcs']\n"
      ],
      "execution_count": null,
      "outputs": []
    },
    {
      "cell_type": "code",
      "metadata": {
        "id": "8-Q1J2jHxcEM",
        "colab_type": "code",
        "colab": {}
      },
      "source": [
        "X = df[['nifty', 'cnxit']]\n"
      ],
      "execution_count": null,
      "outputs": []
    },
    {
      "cell_type": "code",
      "metadata": {
        "id": "qcdNKvvxxgv8",
        "colab_type": "code",
        "colab": {
          "base_uri": "https://localhost:8080/",
          "height": 136
        },
        "outputId": "bb08b9d1-e319-46ea-b388-2498a3439792"
      },
      "source": [
        "y.head()\n"
      ],
      "execution_count": null,
      "outputs": [
        {
          "output_type": "execute_result",
          "data": {
            "text/plain": [
              "Date\n",
              "2015-02-28    0.072641\n",
              "2015-03-31   -0.040723\n",
              "2015-04-30   -0.035334\n",
              "2015-05-31    0.059504\n",
              "2015-06-30   -0.004400\n",
              "Freq: M, Name: tcs, dtype: float64"
            ]
          },
          "metadata": {
            "tags": []
          },
          "execution_count": 18
        }
      ]
    },
    {
      "cell_type": "code",
      "metadata": {
        "id": "w-f3x9rxxiwl",
        "colab_type": "code",
        "colab": {
          "base_uri": "https://localhost:8080/",
          "height": 235
        },
        "outputId": "e17472eb-0dcd-4fb3-8329-674cb6dce9c2"
      },
      "source": [
        "X.head()\n"
      ],
      "execution_count": null,
      "outputs": [
        {
          "output_type": "execute_result",
          "data": {
            "text/html": [
              "<div>\n",
              "<style scoped>\n",
              "    .dataframe tbody tr th:only-of-type {\n",
              "        vertical-align: middle;\n",
              "    }\n",
              "\n",
              "    .dataframe tbody tr th {\n",
              "        vertical-align: top;\n",
              "    }\n",
              "\n",
              "    .dataframe thead th {\n",
              "        text-align: right;\n",
              "    }\n",
              "</style>\n",
              "<table border=\"1\" class=\"dataframe\">\n",
              "  <thead>\n",
              "    <tr style=\"text-align: right;\">\n",
              "      <th></th>\n",
              "      <th>nifty</th>\n",
              "      <th>cnxit</th>\n",
              "    </tr>\n",
              "    <tr>\n",
              "      <th>Date</th>\n",
              "      <th></th>\n",
              "      <th></th>\n",
              "    </tr>\n",
              "  </thead>\n",
              "  <tbody>\n",
              "    <tr>\n",
              "      <th>2015-02-28</th>\n",
              "      <td>0.004053</td>\n",
              "      <td>0.061806</td>\n",
              "    </tr>\n",
              "    <tr>\n",
              "      <th>2015-03-31</th>\n",
              "      <td>-0.039979</td>\n",
              "      <td>-0.037591</td>\n",
              "    </tr>\n",
              "    <tr>\n",
              "      <th>2015-04-30</th>\n",
              "      <td>-0.036450</td>\n",
              "      <td>-0.081817</td>\n",
              "    </tr>\n",
              "    <tr>\n",
              "      <th>2015-05-31</th>\n",
              "      <td>0.030820</td>\n",
              "      <td>0.043324</td>\n",
              "    </tr>\n",
              "    <tr>\n",
              "      <th>2015-06-30</th>\n",
              "      <td>-0.007725</td>\n",
              "      <td>-0.046449</td>\n",
              "    </tr>\n",
              "  </tbody>\n",
              "</table>\n",
              "</div>"
            ],
            "text/plain": [
              "               nifty     cnxit\n",
              "Date                          \n",
              "2015-02-28  0.004053  0.061806\n",
              "2015-03-31 -0.039979 -0.037591\n",
              "2015-04-30 -0.036450 -0.081817\n",
              "2015-05-31  0.030820  0.043324\n",
              "2015-06-30 -0.007725 -0.046449"
            ]
          },
          "metadata": {
            "tags": []
          },
          "execution_count": 19
        }
      ]
    },
    {
      "cell_type": "code",
      "metadata": {
        "id": "oi3futZmxliV",
        "colab_type": "code",
        "colab": {}
      },
      "source": [
        "X = sm.add_constant(X)\n"
      ],
      "execution_count": null,
      "outputs": []
    },
    {
      "cell_type": "code",
      "metadata": {
        "id": "DM_vQjK_xnn3",
        "colab_type": "code",
        "colab": {
          "base_uri": "https://localhost:8080/",
          "height": 235
        },
        "outputId": "a2d2ffe0-767b-4dbf-b9c5-482b7c2f05dc"
      },
      "source": [
        "X.head()\n"
      ],
      "execution_count": null,
      "outputs": [
        {
          "output_type": "execute_result",
          "data": {
            "text/html": [
              "<div>\n",
              "<style scoped>\n",
              "    .dataframe tbody tr th:only-of-type {\n",
              "        vertical-align: middle;\n",
              "    }\n",
              "\n",
              "    .dataframe tbody tr th {\n",
              "        vertical-align: top;\n",
              "    }\n",
              "\n",
              "    .dataframe thead th {\n",
              "        text-align: right;\n",
              "    }\n",
              "</style>\n",
              "<table border=\"1\" class=\"dataframe\">\n",
              "  <thead>\n",
              "    <tr style=\"text-align: right;\">\n",
              "      <th></th>\n",
              "      <th>const</th>\n",
              "      <th>nifty</th>\n",
              "      <th>cnxit</th>\n",
              "    </tr>\n",
              "    <tr>\n",
              "      <th>Date</th>\n",
              "      <th></th>\n",
              "      <th></th>\n",
              "      <th></th>\n",
              "    </tr>\n",
              "  </thead>\n",
              "  <tbody>\n",
              "    <tr>\n",
              "      <th>2015-02-28</th>\n",
              "      <td>1.0</td>\n",
              "      <td>0.004053</td>\n",
              "      <td>0.061806</td>\n",
              "    </tr>\n",
              "    <tr>\n",
              "      <th>2015-03-31</th>\n",
              "      <td>1.0</td>\n",
              "      <td>-0.039979</td>\n",
              "      <td>-0.037591</td>\n",
              "    </tr>\n",
              "    <tr>\n",
              "      <th>2015-04-30</th>\n",
              "      <td>1.0</td>\n",
              "      <td>-0.036450</td>\n",
              "      <td>-0.081817</td>\n",
              "    </tr>\n",
              "    <tr>\n",
              "      <th>2015-05-31</th>\n",
              "      <td>1.0</td>\n",
              "      <td>0.030820</td>\n",
              "      <td>0.043324</td>\n",
              "    </tr>\n",
              "    <tr>\n",
              "      <th>2015-06-30</th>\n",
              "      <td>1.0</td>\n",
              "      <td>-0.007725</td>\n",
              "      <td>-0.046449</td>\n",
              "    </tr>\n",
              "  </tbody>\n",
              "</table>\n",
              "</div>"
            ],
            "text/plain": [
              "            const     nifty     cnxit\n",
              "Date                                 \n",
              "2015-02-28    1.0  0.004053  0.061806\n",
              "2015-03-31    1.0 -0.039979 -0.037591\n",
              "2015-04-30    1.0 -0.036450 -0.081817\n",
              "2015-05-31    1.0  0.030820  0.043324\n",
              "2015-06-30    1.0 -0.007725 -0.046449"
            ]
          },
          "metadata": {
            "tags": []
          },
          "execution_count": 21
        }
      ]
    },
    {
      "cell_type": "code",
      "metadata": {
        "id": "ZLJUnQVKxpck",
        "colab_type": "code",
        "colab": {}
      },
      "source": [
        "model = sm.OLS(y, X)\n"
      ],
      "execution_count": null,
      "outputs": []
    },
    {
      "cell_type": "code",
      "metadata": {
        "id": "61oEwr1ZxsOd",
        "colab_type": "code",
        "colab": {}
      },
      "source": [
        "results = model.fit()\n"
      ],
      "execution_count": null,
      "outputs": []
    },
    {
      "cell_type": "code",
      "metadata": {
        "id": "X5m1EPzrxtrd",
        "colab_type": "code",
        "colab": {
          "base_uri": "https://localhost:8080/",
          "height": 465
        },
        "outputId": "9230e94e-5aba-42b4-bbce-7ec44cbf6512"
      },
      "source": [
        "results.summary()\n"
      ],
      "execution_count": null,
      "outputs": [
        {
          "output_type": "execute_result",
          "data": {
            "text/html": [
              "<table class=\"simpletable\">\n",
              "<caption>OLS Regression Results</caption>\n",
              "<tr>\n",
              "  <th>Dep. Variable:</th>           <td>tcs</td>       <th>  R-squared:         </th> <td>   0.305</td>\n",
              "</tr>\n",
              "<tr>\n",
              "  <th>Model:</th>                   <td>OLS</td>       <th>  Adj. R-squared:    </th> <td>   0.284</td>\n",
              "</tr>\n",
              "<tr>\n",
              "  <th>Method:</th>             <td>Least Squares</td>  <th>  F-statistic:       </th> <td>   14.26</td>\n",
              "</tr>\n",
              "<tr>\n",
              "  <th>Date:</th>             <td>Tue, 15 Sep 2020</td> <th>  Prob (F-statistic):</th> <td>7.31e-06</td>\n",
              "</tr>\n",
              "<tr>\n",
              "  <th>Time:</th>                 <td>07:59:51</td>     <th>  Log-Likelihood:    </th> <td>  100.12</td>\n",
              "</tr>\n",
              "<tr>\n",
              "  <th>No. Observations:</th>      <td>    68</td>      <th>  AIC:               </th> <td>  -194.2</td>\n",
              "</tr>\n",
              "<tr>\n",
              "  <th>Df Residuals:</th>          <td>    65</td>      <th>  BIC:               </th> <td>  -187.6</td>\n",
              "</tr>\n",
              "<tr>\n",
              "  <th>Df Model:</th>              <td>     2</td>      <th>                     </th>     <td> </td>   \n",
              "</tr>\n",
              "<tr>\n",
              "  <th>Covariance Type:</th>      <td>nonrobust</td>    <th>                     </th>     <td> </td>   \n",
              "</tr>\n",
              "</table>\n",
              "<table class=\"simpletable\">\n",
              "<tr>\n",
              "    <td></td>       <th>coef</th>     <th>std err</th>      <th>t</th>      <th>P>|t|</th>  <th>[0.025</th>    <th>0.975]</th>  \n",
              "</tr>\n",
              "<tr>\n",
              "  <th>const</th> <td>    0.0105</td> <td>    0.007</td> <td>    1.504</td> <td> 0.137</td> <td>   -0.003</td> <td>    0.024</td>\n",
              "</tr>\n",
              "<tr>\n",
              "  <th>nifty</th> <td>    0.7193</td> <td>    0.135</td> <td>    5.314</td> <td> 0.000</td> <td>    0.449</td> <td>    0.990</td>\n",
              "</tr>\n",
              "<tr>\n",
              "  <th>cnxit</th> <td>    0.0041</td> <td>    0.007</td> <td>    0.625</td> <td> 0.534</td> <td>   -0.009</td> <td>    0.017</td>\n",
              "</tr>\n",
              "</table>\n",
              "<table class=\"simpletable\">\n",
              "<tr>\n",
              "  <th>Omnibus:</th>       <td> 5.925</td> <th>  Durbin-Watson:     </th> <td>   2.686</td>\n",
              "</tr>\n",
              "<tr>\n",
              "  <th>Prob(Omnibus):</th> <td> 0.052</td> <th>  Jarque-Bera (JB):  </th> <td>   5.075</td>\n",
              "</tr>\n",
              "<tr>\n",
              "  <th>Skew:</th>          <td> 0.568</td> <th>  Prob(JB):          </th> <td>  0.0791</td>\n",
              "</tr>\n",
              "<tr>\n",
              "  <th>Kurtosis:</th>      <td> 3.708</td> <th>  Cond. No.          </th> <td>    21.4</td>\n",
              "</tr>\n",
              "</table><br/><br/>Warnings:<br/>[1] Standard Errors assume that the covariance matrix of the errors is correctly specified."
            ],
            "text/plain": [
              "<class 'statsmodels.iolib.summary.Summary'>\n",
              "\"\"\"\n",
              "                            OLS Regression Results                            \n",
              "==============================================================================\n",
              "Dep. Variable:                    tcs   R-squared:                       0.305\n",
              "Model:                            OLS   Adj. R-squared:                  0.284\n",
              "Method:                 Least Squares   F-statistic:                     14.26\n",
              "Date:                Tue, 15 Sep 2020   Prob (F-statistic):           7.31e-06\n",
              "Time:                        07:59:51   Log-Likelihood:                 100.12\n",
              "No. Observations:                  68   AIC:                            -194.2\n",
              "Df Residuals:                      65   BIC:                            -187.6\n",
              "Df Model:                           2                                         \n",
              "Covariance Type:            nonrobust                                         \n",
              "==============================================================================\n",
              "                 coef    std err          t      P>|t|      [0.025      0.975]\n",
              "------------------------------------------------------------------------------\n",
              "const          0.0105      0.007      1.504      0.137      -0.003       0.024\n",
              "nifty          0.7193      0.135      5.314      0.000       0.449       0.990\n",
              "cnxit          0.0041      0.007      0.625      0.534      -0.009       0.017\n",
              "==============================================================================\n",
              "Omnibus:                        5.925   Durbin-Watson:                   2.686\n",
              "Prob(Omnibus):                  0.052   Jarque-Bera (JB):                5.075\n",
              "Skew:                           0.568   Prob(JB):                       0.0791\n",
              "Kurtosis:                       3.708   Cond. No.                         21.4\n",
              "==============================================================================\n",
              "\n",
              "Warnings:\n",
              "[1] Standard Errors assume that the covariance matrix of the errors is correctly specified.\n",
              "\"\"\""
            ]
          },
          "metadata": {
            "tags": []
          },
          "execution_count": 24
        }
      ]
    },
    {
      "cell_type": "code",
      "metadata": {
        "id": "hJQSBVbuxvC9",
        "colab_type": "code",
        "colab": {
          "base_uri": "https://localhost:8080/",
          "height": 34
        },
        "outputId": "582ccefb-2d45-449d-f9fc-c98bab826610"
      },
      "source": [
        "results.params[1]\n"
      ],
      "execution_count": null,
      "outputs": [
        {
          "output_type": "execute_result",
          "data": {
            "text/plain": [
              "0.7193218529737551"
            ]
          },
          "metadata": {
            "tags": []
          },
          "execution_count": 25
        }
      ]
    },
    {
      "cell_type": "code",
      "metadata": {
        "id": "LZ7zJimPyeOV",
        "colab_type": "code",
        "colab": {
          "base_uri": "https://localhost:8080/",
          "height": 34
        },
        "outputId": "6e0d1d31-933e-499e-9fbd-f5f1e08f3f52"
      },
      "source": [
        "results.params[2]\n"
      ],
      "execution_count": null,
      "outputs": [
        {
          "output_type": "execute_result",
          "data": {
            "text/plain": [
              "0.004147633331807593"
            ]
          },
          "metadata": {
            "tags": []
          },
          "execution_count": 26
        }
      ]
    },
    {
      "cell_type": "code",
      "metadata": {
        "id": "pt6-AEi4yflt",
        "colab_type": "code",
        "colab": {}
      },
      "source": [
        "dof = 33\n"
      ],
      "execution_count": null,
      "outputs": []
    },
    {
      "cell_type": "code",
      "metadata": {
        "id": "1ea4wL8Vyhl9",
        "colab_type": "code",
        "colab": {}
      },
      "source": [
        "from scipy import stats\n"
      ],
      "execution_count": null,
      "outputs": []
    },
    {
      "cell_type": "code",
      "metadata": {
        "id": "xizvETJEyjpM",
        "colab_type": "code",
        "colab": {
          "base_uri": "https://localhost:8080/",
          "height": 34
        },
        "outputId": "373dddbb-79c4-451b-9814-6a56f25a10c9"
      },
      "source": [
        "stats.t.isf(0.025, dof)\n"
      ],
      "execution_count": null,
      "outputs": [
        {
          "output_type": "execute_result",
          "data": {
            "text/plain": [
              "2.0345152974493383"
            ]
          },
          "metadata": {
            "tags": []
          },
          "execution_count": 29
        }
      ]
    },
    {
      "cell_type": "code",
      "metadata": {
        "id": "KIn_hqyhylk2",
        "colab_type": "code",
        "colab": {
          "base_uri": "https://localhost:8080/",
          "height": 34
        },
        "outputId": "b9b5f12d-6a3f-4740-c32f-2b9960d2831a"
      },
      "source": [
        "(results.params[1]-0)/results.bse[1]\n"
      ],
      "execution_count": null,
      "outputs": [
        {
          "output_type": "execute_result",
          "data": {
            "text/plain": [
              "5.314138525127452"
            ]
          },
          "metadata": {
            "tags": []
          },
          "execution_count": 30
        }
      ]
    },
    {
      "cell_type": "code",
      "metadata": {
        "id": "zBoRipHXyosg",
        "colab_type": "code",
        "colab": {
          "base_uri": "https://localhost:8080/",
          "height": 34
        },
        "outputId": "4e6165bc-0823-4c2a-e8d8-da6627cb0c1d"
      },
      "source": [
        "(results.params[2]-0)/results.bse[2]\n"
      ],
      "execution_count": null,
      "outputs": [
        {
          "output_type": "execute_result",
          "data": {
            "text/plain": [
              "0.6254669955176366"
            ]
          },
          "metadata": {
            "tags": []
          },
          "execution_count": 31
        }
      ]
    },
    {
      "cell_type": "markdown",
      "metadata": {
        "id": "BapPu1ldyzbr",
        "colab_type": "text"
      },
      "source": [
        "####Heteroskedasticity"
      ]
    },
    {
      "cell_type": "code",
      "metadata": {
        "id": "s2ubdLe5y1bu",
        "colab_type": "code",
        "colab": {
          "base_uri": "https://localhost:8080/",
          "height": 282
        },
        "outputId": "48cb895f-88cf-4a7a-c776-839bcf1940d3"
      },
      "source": [
        "import matplotlib.pyplot as plt\n",
        "import numpy as np\n",
        "z = np.linspace(1, 10, 50)\n",
        "a = []\n",
        "for i in z:\n",
        "    v = i + np.random.normal()\n",
        "    a.append(v)\n",
        "plt.scatter(z, a)"
      ],
      "execution_count": null,
      "outputs": [
        {
          "output_type": "execute_result",
          "data": {
            "text/plain": [
              "<matplotlib.collections.PathCollection at 0x7f482cf774e0>"
            ]
          },
          "metadata": {
            "tags": []
          },
          "execution_count": 32
        },
        {
          "output_type": "display_data",
          "data": {
            "image/png": "[encoded data removed]",
            "text/plain": [
              "<Figure size 432x288 with 1 Axes>"
            ]
          },
          "metadata": {
            "tags": [],
            "needs_background": "light"
          }
        }
      ]
    },
    {
      "cell_type": "code",
      "metadata": {
        "id": "BVXZ_mV8y7Dv",
        "colab_type": "code",
        "colab": {
          "base_uri": "https://localhost:8080/",
          "height": 282
        },
        "outputId": "0f345213-fc1f-42ef-ece8-ab0c4ed9f933"
      },
      "source": [
        "z = np.linspace(1, 10, 50)\n",
        "a = []\n",
        "c = 1\n",
        "for i in z:\n",
        "    v = i*c*np.random.randint(low=1, high=10)\n",
        "    a.append(v)\n",
        "    c =  c + 1\n",
        "plt.scatter(z, a)\n"
      ],
      "execution_count": null,
      "outputs": [
        {
          "output_type": "execute_result",
          "data": {
            "text/plain": [
              "<matplotlib.collections.PathCollection at 0x7f482cac35f8>"
            ]
          },
          "metadata": {
            "tags": []
          },
          "execution_count": 33
        },
        {
          "output_type": "display_data",
          "data": {
            "image/png": "[encoded data removed]",
            "text/plain": [
              "<Figure size 432x288 with 1 Axes>"
            ]
          },
          "metadata": {
            "tags": [],
            "needs_background": "light"
          }
        }
      ]
    },
    {
      "cell_type": "markdown",
      "metadata": {
        "id": "5DC6g12DzHPY",
        "colab_type": "text"
      },
      "source": [
        "####Breusch Pagan Test\n",
        "$$nR^2$$\n",
        "$$df = number \\ of \\  IVs$$\n",
        "\n"
      ]
    },
    {
      "cell_type": "code",
      "metadata": {
        "id": "AvQuAXRDzP4Q",
        "colab_type": "code",
        "colab": {
          "base_uri": "https://localhost:8080/",
          "height": 235
        },
        "outputId": "b344d4f6-6570-44d6-9e05-300cc9e75ccc"
      },
      "source": [
        "X.head()\n"
      ],
      "execution_count": null,
      "outputs": [
        {
          "output_type": "execute_result",
          "data": {
            "text/html": [
              "<div>\n",
              "<style scoped>\n",
              "    .dataframe tbody tr th:only-of-type {\n",
              "        vertical-align: middle;\n",
              "    }\n",
              "\n",
              "    .dataframe tbody tr th {\n",
              "        vertical-align: top;\n",
              "    }\n",
              "\n",
              "    .dataframe thead th {\n",
              "        text-align: right;\n",
              "    }\n",
              "</style>\n",
              "<table border=\"1\" class=\"dataframe\">\n",
              "  <thead>\n",
              "    <tr style=\"text-align: right;\">\n",
              "      <th></th>\n",
              "      <th>const</th>\n",
              "      <th>nifty</th>\n",
              "      <th>cnxit</th>\n",
              "    </tr>\n",
              "    <tr>\n",
              "      <th>Date</th>\n",
              "      <th></th>\n",
              "      <th></th>\n",
              "      <th></th>\n",
              "    </tr>\n",
              "  </thead>\n",
              "  <tbody>\n",
              "    <tr>\n",
              "      <th>2015-02-28</th>\n",
              "      <td>1.0</td>\n",
              "      <td>0.004053</td>\n",
              "      <td>0.061806</td>\n",
              "    </tr>\n",
              "    <tr>\n",
              "      <th>2015-03-31</th>\n",
              "      <td>1.0</td>\n",
              "      <td>-0.039979</td>\n",
              "      <td>-0.037591</td>\n",
              "    </tr>\n",
              "    <tr>\n",
              "      <th>2015-04-30</th>\n",
              "      <td>1.0</td>\n",
              "      <td>-0.036450</td>\n",
              "      <td>-0.081817</td>\n",
              "    </tr>\n",
              "    <tr>\n",
              "      <th>2015-05-31</th>\n",
              "      <td>1.0</td>\n",
              "      <td>0.030820</td>\n",
              "      <td>0.043324</td>\n",
              "    </tr>\n",
              "    <tr>\n",
              "      <th>2015-06-30</th>\n",
              "      <td>1.0</td>\n",
              "      <td>-0.007725</td>\n",
              "      <td>-0.046449</td>\n",
              "    </tr>\n",
              "  </tbody>\n",
              "</table>\n",
              "</div>"
            ],
            "text/plain": [
              "            const     nifty     cnxit\n",
              "Date                                 \n",
              "2015-02-28    1.0  0.004053  0.061806\n",
              "2015-03-31    1.0 -0.039979 -0.037591\n",
              "2015-04-30    1.0 -0.036450 -0.081817\n",
              "2015-05-31    1.0  0.030820  0.043324\n",
              "2015-06-30    1.0 -0.007725 -0.046449"
            ]
          },
          "metadata": {
            "tags": []
          },
          "execution_count": 34
        }
      ]
    },
    {
      "cell_type": "code",
      "metadata": {
        "id": "Izy4FJWMzX5p",
        "colab_type": "code",
        "colab": {}
      },
      "source": [
        "residuals = results.resid**2\n"
      ],
      "execution_count": null,
      "outputs": []
    },
    {
      "cell_type": "code",
      "metadata": {
        "id": "f7deb2Slza_h",
        "colab_type": "code",
        "colab": {}
      },
      "source": [
        "model_2 = sm.OLS(residuals, X)\n"
      ],
      "execution_count": null,
      "outputs": []
    },
    {
      "cell_type": "code",
      "metadata": {
        "id": "CMAN5JcKzcXa",
        "colab_type": "code",
        "colab": {
          "base_uri": "https://localhost:8080/",
          "height": 465
        },
        "outputId": "25318227-95e9-44c0-acc4-9d9bd73cc3df"
      },
      "source": [
        "results_2 = model_2.fit()\n",
        "results_2.summary()"
      ],
      "execution_count": null,
      "outputs": [
        {
          "output_type": "execute_result",
          "data": {
            "text/html": [
              "<table class=\"simpletable\">\n",
              "<caption>OLS Regression Results</caption>\n",
              "<tr>\n",
              "  <th>Dep. Variable:</th>            <td>y</td>        <th>  R-squared:         </th> <td>   0.020</td>\n",
              "</tr>\n",
              "<tr>\n",
              "  <th>Model:</th>                   <td>OLS</td>       <th>  Adj. R-squared:    </th> <td>  -0.011</td>\n",
              "</tr>\n",
              "<tr>\n",
              "  <th>Method:</th>             <td>Least Squares</td>  <th>  F-statistic:       </th> <td>  0.6468</td>\n",
              "</tr>\n",
              "<tr>\n",
              "  <th>Date:</th>             <td>Tue, 15 Sep 2020</td> <th>  Prob (F-statistic):</th>  <td> 0.527</td> \n",
              "</tr>\n",
              "<tr>\n",
              "  <th>Time:</th>                 <td>08:07:29</td>     <th>  Log-Likelihood:    </th> <td>  263.53</td>\n",
              "</tr>\n",
              "<tr>\n",
              "  <th>No. Observations:</th>      <td>    68</td>      <th>  AIC:               </th> <td>  -521.1</td>\n",
              "</tr>\n",
              "<tr>\n",
              "  <th>Df Residuals:</th>          <td>    65</td>      <th>  BIC:               </th> <td>  -514.4</td>\n",
              "</tr>\n",
              "<tr>\n",
              "  <th>Df Model:</th>              <td>     2</td>      <th>                     </th>     <td> </td>   \n",
              "</tr>\n",
              "<tr>\n",
              "  <th>Covariance Type:</th>      <td>nonrobust</td>    <th>                     </th>     <td> </td>   \n",
              "</tr>\n",
              "</table>\n",
              "<table class=\"simpletable\">\n",
              "<tr>\n",
              "    <td></td>       <th>coef</th>     <th>std err</th>      <th>t</th>      <th>P>|t|</th>  <th>[0.025</th>    <th>0.975]</th>  \n",
              "</tr>\n",
              "<tr>\n",
              "  <th>const</th> <td>    0.0031</td> <td>    0.001</td> <td>    4.855</td> <td> 0.000</td> <td>    0.002</td> <td>    0.004</td>\n",
              "</tr>\n",
              "<tr>\n",
              "  <th>nifty</th> <td>    0.0119</td> <td>    0.012</td> <td>    0.971</td> <td> 0.335</td> <td>   -0.013</td> <td>    0.036</td>\n",
              "</tr>\n",
              "<tr>\n",
              "  <th>cnxit</th> <td>   -0.0003</td> <td>    0.001</td> <td>   -0.576</td> <td> 0.566</td> <td>   -0.002</td> <td>    0.001</td>\n",
              "</tr>\n",
              "</table>\n",
              "<table class=\"simpletable\">\n",
              "<tr>\n",
              "  <th>Omnibus:</th>       <td>82.256</td> <th>  Durbin-Watson:     </th> <td>   2.034</td> \n",
              "</tr>\n",
              "<tr>\n",
              "  <th>Prob(Omnibus):</th> <td> 0.000</td> <th>  Jarque-Bera (JB):  </th> <td> 965.105</td> \n",
              "</tr>\n",
              "<tr>\n",
              "  <th>Skew:</th>          <td> 3.550</td> <th>  Prob(JB):          </th> <td>2.69e-210</td>\n",
              "</tr>\n",
              "<tr>\n",
              "  <th>Kurtosis:</th>      <td>20.035</td> <th>  Cond. No.          </th> <td>    21.4</td> \n",
              "</tr>\n",
              "</table><br/><br/>Warnings:<br/>[1] Standard Errors assume that the covariance matrix of the errors is correctly specified."
            ],
            "text/plain": [
              "<class 'statsmodels.iolib.summary.Summary'>\n",
              "\"\"\"\n",
              "                            OLS Regression Results                            \n",
              "==============================================================================\n",
              "Dep. Variable:                      y   R-squared:                       0.020\n",
              "Model:                            OLS   Adj. R-squared:                 -0.011\n",
              "Method:                 Least Squares   F-statistic:                    0.6468\n",
              "Date:                Tue, 15 Sep 2020   Prob (F-statistic):              0.527\n",
              "Time:                        08:07:29   Log-Likelihood:                 263.53\n",
              "No. Observations:                  68   AIC:                            -521.1\n",
              "Df Residuals:                      65   BIC:                            -514.4\n",
              "Df Model:                           2                                         \n",
              "Covariance Type:            nonrobust                                         \n",
              "==============================================================================\n",
              "                 coef    std err          t      P>|t|      [0.025      0.975]\n",
              "------------------------------------------------------------------------------\n",
              "const          0.0031      0.001      4.855      0.000       0.002       0.004\n",
              "nifty          0.0119      0.012      0.971      0.335      -0.013       0.036\n",
              "cnxit         -0.0003      0.001     -0.576      0.566      -0.002       0.001\n",
              "==============================================================================\n",
              "Omnibus:                       82.256   Durbin-Watson:                   2.034\n",
              "Prob(Omnibus):                  0.000   Jarque-Bera (JB):              965.105\n",
              "Skew:                           3.550   Prob(JB):                    2.69e-210\n",
              "Kurtosis:                      20.035   Cond. No.                         21.4\n",
              "==============================================================================\n",
              "\n",
              "Warnings:\n",
              "[1] Standard Errors assume that the covariance matrix of the errors is correctly specified.\n",
              "\"\"\""
            ]
          },
          "metadata": {
            "tags": []
          },
          "execution_count": 37
        }
      ]
    },
    {
      "cell_type": "code",
      "metadata": {
        "id": "GboTedRtzex5",
        "colab_type": "code",
        "colab": {
          "base_uri": "https://localhost:8080/",
          "height": 34
        },
        "outputId": "ef77218f-078d-4794-b800-d137af19348b"
      },
      "source": [
        "68 * 0.020\n"
      ],
      "execution_count": null,
      "outputs": [
        {
          "output_type": "execute_result",
          "data": {
            "text/plain": [
              "1.36"
            ]
          },
          "metadata": {
            "tags": []
          },
          "execution_count": 38
        }
      ]
    },
    {
      "cell_type": "code",
      "metadata": {
        "id": "OcQ34042zsVY",
        "colab_type": "code",
        "colab": {
          "base_uri": "https://localhost:8080/",
          "height": 34
        },
        "outputId": "c944a66b-46c1-4627-da9f-b92dd6ed938d"
      },
      "source": [
        "from statsmodels.stats.diagnostic import het_breuschpagan\n",
        "bp_test = het_breuschpagan(results.resid, results.model.exog)\n",
        "bp_test"
      ],
      "execution_count": null,
      "outputs": [
        {
          "output_type": "execute_result",
          "data": {
            "text/plain": [
              "(1.3269364531452927, 0.5150618818665964, 0.6468194565098325, 0.527046205592188)"
            ]
          },
          "metadata": {
            "tags": []
          },
          "execution_count": 39
        }
      ]
    },
    {
      "cell_type": "markdown",
      "metadata": {
        "id": "F4rWTUolz5P3",
        "colab_type": "text"
      },
      "source": [
        "####Multicollinearity"
      ]
    },
    {
      "cell_type": "code",
      "metadata": {
        "id": "jx77BLVQz7M0",
        "colab_type": "code",
        "colab": {
          "base_uri": "https://localhost:8080/",
          "height": 235
        },
        "outputId": "c5439501-0b51-406d-dae2-de7573c32fd2"
      },
      "source": [
        "df.head()\n"
      ],
      "execution_count": null,
      "outputs": [
        {
          "output_type": "execute_result",
          "data": {
            "text/html": [
              "<div>\n",
              "<style scoped>\n",
              "    .dataframe tbody tr th:only-of-type {\n",
              "        vertical-align: middle;\n",
              "    }\n",
              "\n",
              "    .dataframe tbody tr th {\n",
              "        vertical-align: top;\n",
              "    }\n",
              "\n",
              "    .dataframe thead th {\n",
              "        text-align: right;\n",
              "    }\n",
              "</style>\n",
              "<table border=\"1\" class=\"dataframe\">\n",
              "  <thead>\n",
              "    <tr style=\"text-align: right;\">\n",
              "      <th></th>\n",
              "      <th>tcs</th>\n",
              "      <th>nifty</th>\n",
              "      <th>cnxit</th>\n",
              "    </tr>\n",
              "    <tr>\n",
              "      <th>Date</th>\n",
              "      <th></th>\n",
              "      <th></th>\n",
              "      <th></th>\n",
              "    </tr>\n",
              "  </thead>\n",
              "  <tbody>\n",
              "    <tr>\n",
              "      <th>2015-02-28</th>\n",
              "      <td>0.072641</td>\n",
              "      <td>0.004053</td>\n",
              "      <td>0.061806</td>\n",
              "    </tr>\n",
              "    <tr>\n",
              "      <th>2015-03-31</th>\n",
              "      <td>-0.040723</td>\n",
              "      <td>-0.039979</td>\n",
              "      <td>-0.037591</td>\n",
              "    </tr>\n",
              "    <tr>\n",
              "      <th>2015-04-30</th>\n",
              "      <td>-0.035334</td>\n",
              "      <td>-0.036450</td>\n",
              "      <td>-0.081817</td>\n",
              "    </tr>\n",
              "    <tr>\n",
              "      <th>2015-05-31</th>\n",
              "      <td>0.059504</td>\n",
              "      <td>0.030820</td>\n",
              "      <td>0.043324</td>\n",
              "    </tr>\n",
              "    <tr>\n",
              "      <th>2015-06-30</th>\n",
              "      <td>-0.004400</td>\n",
              "      <td>-0.007725</td>\n",
              "      <td>-0.046449</td>\n",
              "    </tr>\n",
              "  </tbody>\n",
              "</table>\n",
              "</div>"
            ],
            "text/plain": [
              "                 tcs     nifty     cnxit\n",
              "Date                                    \n",
              "2015-02-28  0.072641  0.004053  0.061806\n",
              "2015-03-31 -0.040723 -0.039979 -0.037591\n",
              "2015-04-30 -0.035334 -0.036450 -0.081817\n",
              "2015-05-31  0.059504  0.030820  0.043324\n",
              "2015-06-30 -0.004400 -0.007725 -0.046449"
            ]
          },
          "metadata": {
            "tags": []
          },
          "execution_count": 40
        }
      ]
    },
    {
      "cell_type": "code",
      "metadata": {
        "id": "iu6pZ4UY0Grd",
        "colab_type": "code",
        "colab": {
          "base_uri": "https://localhost:8080/",
          "height": 235
        },
        "outputId": "fffaf9a5-269c-45f5-89ee-9ead0ed6ae4e"
      },
      "source": [
        "from pandas_datareader import data\n",
        "bk = data.DataReader('^NSEBANK', 'yahoo', start='2015/01/01', end='2020/09/14')\n",
        "bk = bk.resample('M').last().pct_change()\n",
        "bk.head()"
      ],
      "execution_count": null,
      "outputs": [
        {
          "output_type": "execute_result",
          "data": {
            "text/html": [
              "<div>\n",
              "<style scoped>\n",
              "    .dataframe tbody tr th:only-of-type {\n",
              "        vertical-align: middle;\n",
              "    }\n",
              "\n",
              "    .dataframe tbody tr th {\n",
              "        vertical-align: top;\n",
              "    }\n",
              "\n",
              "    .dataframe thead th {\n",
              "        text-align: right;\n",
              "    }\n",
              "</style>\n",
              "<table border=\"1\" class=\"dataframe\">\n",
              "  <thead>\n",
              "    <tr style=\"text-align: right;\">\n",
              "      <th></th>\n",
              "      <th>High</th>\n",
              "      <th>Low</th>\n",
              "      <th>Open</th>\n",
              "      <th>Close</th>\n",
              "      <th>Volume</th>\n",
              "      <th>Adj Close</th>\n",
              "    </tr>\n",
              "    <tr>\n",
              "      <th>Date</th>\n",
              "      <th></th>\n",
              "      <th></th>\n",
              "      <th></th>\n",
              "      <th></th>\n",
              "      <th></th>\n",
              "      <th></th>\n",
              "    </tr>\n",
              "  </thead>\n",
              "  <tbody>\n",
              "    <tr>\n",
              "      <th>2015-01-31</th>\n",
              "      <td>NaN</td>\n",
              "      <td>NaN</td>\n",
              "      <td>NaN</td>\n",
              "      <td>NaN</td>\n",
              "      <td>NaN</td>\n",
              "      <td>NaN</td>\n",
              "    </tr>\n",
              "    <tr>\n",
              "      <th>2015-02-28</th>\n",
              "      <td>-0.072143</td>\n",
              "      <td>-0.054611</td>\n",
              "      <td>-0.094220</td>\n",
              "      <td>-0.038763</td>\n",
              "      <td>NaN</td>\n",
              "      <td>-0.038763</td>\n",
              "    </tr>\n",
              "    <tr>\n",
              "      <th>2015-03-31</th>\n",
              "      <td>-0.032441</td>\n",
              "      <td>-0.026604</td>\n",
              "      <td>-0.012624</td>\n",
              "      <td>-0.045500</td>\n",
              "      <td>NaN</td>\n",
              "      <td>-0.045500</td>\n",
              "    </tr>\n",
              "    <tr>\n",
              "      <th>2015-04-30</th>\n",
              "      <td>-0.003377</td>\n",
              "      <td>0.002415</td>\n",
              "      <td>-0.009135</td>\n",
              "      <td>0.005273</td>\n",
              "      <td>NaN</td>\n",
              "      <td>0.005273</td>\n",
              "    </tr>\n",
              "    <tr>\n",
              "      <th>2015-05-31</th>\n",
              "      <td>0.017323</td>\n",
              "      <td>0.014232</td>\n",
              "      <td>0.012632</td>\n",
              "      <td>0.022876</td>\n",
              "      <td>NaN</td>\n",
              "      <td>0.022876</td>\n",
              "    </tr>\n",
              "  </tbody>\n",
              "</table>\n",
              "</div>"
            ],
            "text/plain": [
              "                High       Low      Open     Close  Volume  Adj Close\n",
              "Date                                                                 \n",
              "2015-01-31       NaN       NaN       NaN       NaN     NaN        NaN\n",
              "2015-02-28 -0.072143 -0.054611 -0.094220 -0.038763     NaN  -0.038763\n",
              "2015-03-31 -0.032441 -0.026604 -0.012624 -0.045500     NaN  -0.045500\n",
              "2015-04-30 -0.003377  0.002415 -0.009135  0.005273     NaN   0.005273\n",
              "2015-05-31  0.017323  0.014232  0.012632  0.022876     NaN   0.022876"
            ]
          },
          "metadata": {
            "tags": []
          },
          "execution_count": 41
        }
      ]
    },
    {
      "cell_type": "code",
      "metadata": {
        "id": "WsGfjsof0pQG",
        "colab_type": "code",
        "colab": {
          "base_uri": "https://localhost:8080/",
          "height": 235
        },
        "outputId": "65d70d81-ce68-412b-d70f-38d51b091b1c"
      },
      "source": [
        "df = df.join(bk['Adj Close'])\n",
        "df.head()"
      ],
      "execution_count": null,
      "outputs": [
        {
          "output_type": "execute_result",
          "data": {
            "text/html": [
              "<div>\n",
              "<style scoped>\n",
              "    .dataframe tbody tr th:only-of-type {\n",
              "        vertical-align: middle;\n",
              "    }\n",
              "\n",
              "    .dataframe tbody tr th {\n",
              "        vertical-align: top;\n",
              "    }\n",
              "\n",
              "    .dataframe thead th {\n",
              "        text-align: right;\n",
              "    }\n",
              "</style>\n",
              "<table border=\"1\" class=\"dataframe\">\n",
              "  <thead>\n",
              "    <tr style=\"text-align: right;\">\n",
              "      <th></th>\n",
              "      <th>tcs</th>\n",
              "      <th>nifty</th>\n",
              "      <th>cnxit</th>\n",
              "      <th>Adj Close</th>\n",
              "    </tr>\n",
              "    <tr>\n",
              "      <th>Date</th>\n",
              "      <th></th>\n",
              "      <th></th>\n",
              "      <th></th>\n",
              "      <th></th>\n",
              "    </tr>\n",
              "  </thead>\n",
              "  <tbody>\n",
              "    <tr>\n",
              "      <th>2015-02-28</th>\n",
              "      <td>0.072641</td>\n",
              "      <td>0.004053</td>\n",
              "      <td>0.061806</td>\n",
              "      <td>-0.038763</td>\n",
              "    </tr>\n",
              "    <tr>\n",
              "      <th>2015-03-31</th>\n",
              "      <td>-0.040723</td>\n",
              "      <td>-0.039979</td>\n",
              "      <td>-0.037591</td>\n",
              "      <td>-0.045500</td>\n",
              "    </tr>\n",
              "    <tr>\n",
              "      <th>2015-04-30</th>\n",
              "      <td>-0.035334</td>\n",
              "      <td>-0.036450</td>\n",
              "      <td>-0.081817</td>\n",
              "      <td>0.005273</td>\n",
              "    </tr>\n",
              "    <tr>\n",
              "      <th>2015-05-31</th>\n",
              "      <td>0.059504</td>\n",
              "      <td>0.030820</td>\n",
              "      <td>0.043324</td>\n",
              "      <td>0.022876</td>\n",
              "    </tr>\n",
              "    <tr>\n",
              "      <th>2015-06-30</th>\n",
              "      <td>-0.004400</td>\n",
              "      <td>-0.007725</td>\n",
              "      <td>-0.046449</td>\n",
              "      <td>-0.022715</td>\n",
              "    </tr>\n",
              "  </tbody>\n",
              "</table>\n",
              "</div>"
            ],
            "text/plain": [
              "                 tcs     nifty     cnxit  Adj Close\n",
              "Date                                               \n",
              "2015-02-28  0.072641  0.004053  0.061806  -0.038763\n",
              "2015-03-31 -0.040723 -0.039979 -0.037591  -0.045500\n",
              "2015-04-30 -0.035334 -0.036450 -0.081817   0.005273\n",
              "2015-05-31  0.059504  0.030820  0.043324   0.022876\n",
              "2015-06-30 -0.004400 -0.007725 -0.046449  -0.022715"
            ]
          },
          "metadata": {
            "tags": []
          },
          "execution_count": 43
        }
      ]
    },
    {
      "cell_type": "code",
      "metadata": {
        "id": "OmqpfiLC0xQH",
        "colab_type": "code",
        "colab": {
          "base_uri": "https://localhost:8080/",
          "height": 235
        },
        "outputId": "52e61a8f-9e9f-413e-b9ea-e9bafca30127"
      },
      "source": [
        "df = df.rename(columns={'Adj Close': 'bk'})\n",
        "df.head()"
      ],
      "execution_count": null,
      "outputs": [
        {
          "output_type": "execute_result",
          "data": {
            "text/html": [
              "<div>\n",
              "<style scoped>\n",
              "    .dataframe tbody tr th:only-of-type {\n",
              "        vertical-align: middle;\n",
              "    }\n",
              "\n",
              "    .dataframe tbody tr th {\n",
              "        vertical-align: top;\n",
              "    }\n",
              "\n",
              "    .dataframe thead th {\n",
              "        text-align: right;\n",
              "    }\n",
              "</style>\n",
              "<table border=\"1\" class=\"dataframe\">\n",
              "  <thead>\n",
              "    <tr style=\"text-align: right;\">\n",
              "      <th></th>\n",
              "      <th>tcs</th>\n",
              "      <th>nifty</th>\n",
              "      <th>cnxit</th>\n",
              "      <th>bk</th>\n",
              "    </tr>\n",
              "    <tr>\n",
              "      <th>Date</th>\n",
              "      <th></th>\n",
              "      <th></th>\n",
              "      <th></th>\n",
              "      <th></th>\n",
              "    </tr>\n",
              "  </thead>\n",
              "  <tbody>\n",
              "    <tr>\n",
              "      <th>2015-02-28</th>\n",
              "      <td>0.072641</td>\n",
              "      <td>0.004053</td>\n",
              "      <td>0.061806</td>\n",
              "      <td>-0.038763</td>\n",
              "    </tr>\n",
              "    <tr>\n",
              "      <th>2015-03-31</th>\n",
              "      <td>-0.040723</td>\n",
              "      <td>-0.039979</td>\n",
              "      <td>-0.037591</td>\n",
              "      <td>-0.045500</td>\n",
              "    </tr>\n",
              "    <tr>\n",
              "      <th>2015-04-30</th>\n",
              "      <td>-0.035334</td>\n",
              "      <td>-0.036450</td>\n",
              "      <td>-0.081817</td>\n",
              "      <td>0.005273</td>\n",
              "    </tr>\n",
              "    <tr>\n",
              "      <th>2015-05-31</th>\n",
              "      <td>0.059504</td>\n",
              "      <td>0.030820</td>\n",
              "      <td>0.043324</td>\n",
              "      <td>0.022876</td>\n",
              "    </tr>\n",
              "    <tr>\n",
              "      <th>2015-06-30</th>\n",
              "      <td>-0.004400</td>\n",
              "      <td>-0.007725</td>\n",
              "      <td>-0.046449</td>\n",
              "      <td>-0.022715</td>\n",
              "    </tr>\n",
              "  </tbody>\n",
              "</table>\n",
              "</div>"
            ],
            "text/plain": [
              "                 tcs     nifty     cnxit        bk\n",
              "Date                                              \n",
              "2015-02-28  0.072641  0.004053  0.061806 -0.038763\n",
              "2015-03-31 -0.040723 -0.039979 -0.037591 -0.045500\n",
              "2015-04-30 -0.035334 -0.036450 -0.081817  0.005273\n",
              "2015-05-31  0.059504  0.030820  0.043324  0.022876\n",
              "2015-06-30 -0.004400 -0.007725 -0.046449 -0.022715"
            ]
          },
          "metadata": {
            "tags": []
          },
          "execution_count": 44
        }
      ]
    },
    {
      "cell_type": "code",
      "metadata": {
        "id": "SrwfAZ0p06pm",
        "colab_type": "code",
        "colab": {
          "base_uri": "https://localhost:8080/",
          "height": 465
        },
        "outputId": "4b9b8bd4-2432-4704-ed1b-d68a8d8c49aa"
      },
      "source": [
        "results.summary()\n"
      ],
      "execution_count": null,
      "outputs": [
        {
          "output_type": "execute_result",
          "data": {
            "text/html": [
              "<table class=\"simpletable\">\n",
              "<caption>OLS Regression Results</caption>\n",
              "<tr>\n",
              "  <th>Dep. Variable:</th>           <td>tcs</td>       <th>  R-squared:         </th> <td>   0.305</td>\n",
              "</tr>\n",
              "<tr>\n",
              "  <th>Model:</th>                   <td>OLS</td>       <th>  Adj. R-squared:    </th> <td>   0.284</td>\n",
              "</tr>\n",
              "<tr>\n",
              "  <th>Method:</th>             <td>Least Squares</td>  <th>  F-statistic:       </th> <td>   14.26</td>\n",
              "</tr>\n",
              "<tr>\n",
              "  <th>Date:</th>             <td>Tue, 15 Sep 2020</td> <th>  Prob (F-statistic):</th> <td>7.31e-06</td>\n",
              "</tr>\n",
              "<tr>\n",
              "  <th>Time:</th>                 <td>08:13:55</td>     <th>  Log-Likelihood:    </th> <td>  100.12</td>\n",
              "</tr>\n",
              "<tr>\n",
              "  <th>No. Observations:</th>      <td>    68</td>      <th>  AIC:               </th> <td>  -194.2</td>\n",
              "</tr>\n",
              "<tr>\n",
              "  <th>Df Residuals:</th>          <td>    65</td>      <th>  BIC:               </th> <td>  -187.6</td>\n",
              "</tr>\n",
              "<tr>\n",
              "  <th>Df Model:</th>              <td>     2</td>      <th>                     </th>     <td> </td>   \n",
              "</tr>\n",
              "<tr>\n",
              "  <th>Covariance Type:</th>      <td>nonrobust</td>    <th>                     </th>     <td> </td>   \n",
              "</tr>\n",
              "</table>\n",
              "<table class=\"simpletable\">\n",
              "<tr>\n",
              "    <td></td>       <th>coef</th>     <th>std err</th>      <th>t</th>      <th>P>|t|</th>  <th>[0.025</th>    <th>0.975]</th>  \n",
              "</tr>\n",
              "<tr>\n",
              "  <th>const</th> <td>    0.0105</td> <td>    0.007</td> <td>    1.504</td> <td> 0.137</td> <td>   -0.003</td> <td>    0.024</td>\n",
              "</tr>\n",
              "<tr>\n",
              "  <th>nifty</th> <td>    0.7193</td> <td>    0.135</td> <td>    5.314</td> <td> 0.000</td> <td>    0.449</td> <td>    0.990</td>\n",
              "</tr>\n",
              "<tr>\n",
              "  <th>cnxit</th> <td>    0.0041</td> <td>    0.007</td> <td>    0.625</td> <td> 0.534</td> <td>   -0.009</td> <td>    0.017</td>\n",
              "</tr>\n",
              "</table>\n",
              "<table class=\"simpletable\">\n",
              "<tr>\n",
              "  <th>Omnibus:</th>       <td> 5.925</td> <th>  Durbin-Watson:     </th> <td>   2.686</td>\n",
              "</tr>\n",
              "<tr>\n",
              "  <th>Prob(Omnibus):</th> <td> 0.052</td> <th>  Jarque-Bera (JB):  </th> <td>   5.075</td>\n",
              "</tr>\n",
              "<tr>\n",
              "  <th>Skew:</th>          <td> 0.568</td> <th>  Prob(JB):          </th> <td>  0.0791</td>\n",
              "</tr>\n",
              "<tr>\n",
              "  <th>Kurtosis:</th>      <td> 3.708</td> <th>  Cond. No.          </th> <td>    21.4</td>\n",
              "</tr>\n",
              "</table><br/><br/>Warnings:<br/>[1] Standard Errors assume that the covariance matrix of the errors is correctly specified."
            ],
            "text/plain": [
              "<class 'statsmodels.iolib.summary.Summary'>\n",
              "\"\"\"\n",
              "                            OLS Regression Results                            \n",
              "==============================================================================\n",
              "Dep. Variable:                    tcs   R-squared:                       0.305\n",
              "Model:                            OLS   Adj. R-squared:                  0.284\n",
              "Method:                 Least Squares   F-statistic:                     14.26\n",
              "Date:                Tue, 15 Sep 2020   Prob (F-statistic):           7.31e-06\n",
              "Time:                        08:13:55   Log-Likelihood:                 100.12\n",
              "No. Observations:                  68   AIC:                            -194.2\n",
              "Df Residuals:                      65   BIC:                            -187.6\n",
              "Df Model:                           2                                         \n",
              "Covariance Type:            nonrobust                                         \n",
              "==============================================================================\n",
              "                 coef    std err          t      P>|t|      [0.025      0.975]\n",
              "------------------------------------------------------------------------------\n",
              "const          0.0105      0.007      1.504      0.137      -0.003       0.024\n",
              "nifty          0.7193      0.135      5.314      0.000       0.449       0.990\n",
              "cnxit          0.0041      0.007      0.625      0.534      -0.009       0.017\n",
              "==============================================================================\n",
              "Omnibus:                        5.925   Durbin-Watson:                   2.686\n",
              "Prob(Omnibus):                  0.052   Jarque-Bera (JB):                5.075\n",
              "Skew:                           0.568   Prob(JB):                       0.0791\n",
              "Kurtosis:                       3.708   Cond. No.                         21.4\n",
              "==============================================================================\n",
              "\n",
              "Warnings:\n",
              "[1] Standard Errors assume that the covariance matrix of the errors is correctly specified.\n",
              "\"\"\""
            ]
          },
          "metadata": {
            "tags": []
          },
          "execution_count": 45
        }
      ]
    },
    {
      "cell_type": "code",
      "metadata": {
        "id": "7WVUXI0T09LW",
        "colab_type": "code",
        "colab": {}
      },
      "source": [
        "y_3, X_3 = dmatrices('tcs ~ nifty + cnxit + bk', data=df, return_type='dataframe')\n"
      ],
      "execution_count": null,
      "outputs": []
    },
    {
      "cell_type": "code",
      "metadata": {
        "id": "BF8Au7GM1G02",
        "colab_type": "code",
        "colab": {
          "base_uri": "https://localhost:8080/",
          "height": 486
        },
        "outputId": "91e2137a-1294-4ae4-b312-e3c6dd018874"
      },
      "source": [
        "model_3 = sm.OLS(y_3, X_3)\n",
        "results_3 = model_3.fit()\n",
        "results_3.summary()"
      ],
      "execution_count": null,
      "outputs": [
        {
          "output_type": "execute_result",
          "data": {
            "text/html": [
              "<table class=\"simpletable\">\n",
              "<caption>OLS Regression Results</caption>\n",
              "<tr>\n",
              "  <th>Dep. Variable:</th>           <td>tcs</td>       <th>  R-squared:         </th> <td>   0.421</td>\n",
              "</tr>\n",
              "<tr>\n",
              "  <th>Model:</th>                   <td>OLS</td>       <th>  Adj. R-squared:    </th> <td>   0.394</td>\n",
              "</tr>\n",
              "<tr>\n",
              "  <th>Method:</th>             <td>Least Squares</td>  <th>  F-statistic:       </th> <td>   15.52</td>\n",
              "</tr>\n",
              "<tr>\n",
              "  <th>Date:</th>             <td>Tue, 15 Sep 2020</td> <th>  Prob (F-statistic):</th> <td>1.08e-07</td>\n",
              "</tr>\n",
              "<tr>\n",
              "  <th>Time:</th>                 <td>08:14:47</td>     <th>  Log-Likelihood:    </th> <td>  106.33</td>\n",
              "</tr>\n",
              "<tr>\n",
              "  <th>No. Observations:</th>      <td>    68</td>      <th>  AIC:               </th> <td>  -204.7</td>\n",
              "</tr>\n",
              "<tr>\n",
              "  <th>Df Residuals:</th>          <td>    64</td>      <th>  BIC:               </th> <td>  -195.8</td>\n",
              "</tr>\n",
              "<tr>\n",
              "  <th>Df Model:</th>              <td>     3</td>      <th>                     </th>     <td> </td>   \n",
              "</tr>\n",
              "<tr>\n",
              "  <th>Covariance Type:</th>      <td>nonrobust</td>    <th>                     </th>     <td> </td>   \n",
              "</tr>\n",
              "</table>\n",
              "<table class=\"simpletable\">\n",
              "<tr>\n",
              "      <td></td>         <th>coef</th>     <th>std err</th>      <th>t</th>      <th>P>|t|</th>  <th>[0.025</th>    <th>0.975]</th>  \n",
              "</tr>\n",
              "<tr>\n",
              "  <th>Intercept</th> <td>    0.0104</td> <td>    0.006</td> <td>    1.615</td> <td> 0.111</td> <td>   -0.002</td> <td>    0.023</td>\n",
              "</tr>\n",
              "<tr>\n",
              "  <th>nifty</th>     <td>    1.3295</td> <td>    0.211</td> <td>    6.301</td> <td> 0.000</td> <td>    0.908</td> <td>    1.751</td>\n",
              "</tr>\n",
              "<tr>\n",
              "  <th>cnxit</th>     <td>   -0.0011</td> <td>    0.006</td> <td>   -0.168</td> <td> 0.867</td> <td>   -0.014</td> <td>    0.011</td>\n",
              "</tr>\n",
              "<tr>\n",
              "  <th>bk</th>        <td>   -0.5284</td> <td>    0.148</td> <td>   -3.582</td> <td> 0.001</td> <td>   -0.823</td> <td>   -0.234</td>\n",
              "</tr>\n",
              "</table>\n",
              "<table class=\"simpletable\">\n",
              "<tr>\n",
              "  <th>Omnibus:</th>       <td> 8.408</td> <th>  Durbin-Watson:     </th> <td>   2.615</td>\n",
              "</tr>\n",
              "<tr>\n",
              "  <th>Prob(Omnibus):</th> <td> 0.015</td> <th>  Jarque-Bera (JB):  </th> <td>   8.127</td>\n",
              "</tr>\n",
              "<tr>\n",
              "  <th>Skew:</th>          <td> 0.671</td> <th>  Prob(JB):          </th> <td>  0.0172</td>\n",
              "</tr>\n",
              "<tr>\n",
              "  <th>Kurtosis:</th>      <td> 4.033</td> <th>  Cond. No.          </th> <td>    42.3</td>\n",
              "</tr>\n",
              "</table><br/><br/>Warnings:<br/>[1] Standard Errors assume that the covariance matrix of the errors is correctly specified."
            ],
            "text/plain": [
              "<class 'statsmodels.iolib.summary.Summary'>\n",
              "\"\"\"\n",
              "                            OLS Regression Results                            \n",
              "==============================================================================\n",
              "Dep. Variable:                    tcs   R-squared:                       0.421\n",
              "Model:                            OLS   Adj. R-squared:                  0.394\n",
              "Method:                 Least Squares   F-statistic:                     15.52\n",
              "Date:                Tue, 15 Sep 2020   Prob (F-statistic):           1.08e-07\n",
              "Time:                        08:14:47   Log-Likelihood:                 106.33\n",
              "No. Observations:                  68   AIC:                            -204.7\n",
              "Df Residuals:                      64   BIC:                            -195.8\n",
              "Df Model:                           3                                         \n",
              "Covariance Type:            nonrobust                                         \n",
              "==============================================================================\n",
              "                 coef    std err          t      P>|t|      [0.025      0.975]\n",
              "------------------------------------------------------------------------------\n",
              "Intercept      0.0104      0.006      1.615      0.111      -0.002       0.023\n",
              "nifty          1.3295      0.211      6.301      0.000       0.908       1.751\n",
              "cnxit         -0.0011      0.006     -0.168      0.867      -0.014       0.011\n",
              "bk            -0.5284      0.148     -3.582      0.001      -0.823      -0.234\n",
              "==============================================================================\n",
              "Omnibus:                        8.408   Durbin-Watson:                   2.615\n",
              "Prob(Omnibus):                  0.015   Jarque-Bera (JB):                8.127\n",
              "Skew:                           0.671   Prob(JB):                       0.0172\n",
              "Kurtosis:                       4.033   Cond. No.                         42.3\n",
              "==============================================================================\n",
              "\n",
              "Warnings:\n",
              "[1] Standard Errors assume that the covariance matrix of the errors is correctly specified.\n",
              "\"\"\""
            ]
          },
          "metadata": {
            "tags": []
          },
          "execution_count": 47
        }
      ]
    },
    {
      "cell_type": "code",
      "metadata": {
        "id": "hvl7a5qK1Jun",
        "colab_type": "code",
        "colab": {}
      },
      "source": [
        "from pandas.plotting import scatter_matrix\n"
      ],
      "execution_count": null,
      "outputs": []
    },
    {
      "cell_type": "code",
      "metadata": {
        "id": "k9ayW_LI1Mg-",
        "colab_type": "code",
        "colab": {}
      },
      "source": [
        "import matplotlib.pyplot as plt\n"
      ],
      "execution_count": null,
      "outputs": []
    },
    {
      "cell_type": "code",
      "metadata": {
        "id": "wbxEscx-1N9X",
        "colab_type": "code",
        "colab": {
          "base_uri": "https://localhost:8080/",
          "height": 615
        },
        "outputId": "cf7f8ac7-4ef0-4448-dc9f-81593af64925"
      },
      "source": [
        "scatter_matrix(df[['tcs', 'nifty', 'cnxit', 'bk']], figsize=(15, 10))\n",
        "plt.show()\n"
      ],
      "execution_count": null,
      "outputs": [
        {
          "output_type": "display_data",
          "data": {
            "image/png": "[encoded data removed]",
            "text/plain": [
              "<Figure size 1080x720 with 16 Axes>"
            ]
          },
          "metadata": {
            "tags": [],
            "needs_background": "light"
          }
        }
      ]
    },
    {
      "cell_type": "code",
      "metadata": {
        "id": "nEPH3mNq1VX4",
        "colab_type": "code",
        "colab": {}
      },
      "source": [
        ""
      ],
      "execution_count": null,
      "outputs": []
    }
  ]
}